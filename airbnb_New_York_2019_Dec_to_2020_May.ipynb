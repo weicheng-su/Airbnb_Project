{
 "cells": [
  {
   "cell_type": "code",
   "execution_count": 1,
   "metadata": {},
   "outputs": [],
   "source": [
    "import pandas as pd\n",
    "import numpy as np\n",
    "import matplotlib.pyplot as plt\n",
    "import datetime\n",
    "%matplotlib inline"
   ]
  },
  {
   "cell_type": "code",
   "execution_count": 2,
   "metadata": {},
   "outputs": [],
   "source": [
    "#data compiled on December 4\n",
    "calendar_Dec = pd.read_csv('../data/initial_data/2019Dec/calendar.csv.gz', compression='gzip', \n",
    "                                 header=0, sep=',', quotechar='\"')\n",
    "#data compiled on January 3\n",
    "calendar_Jan = pd.read_csv('../data/initial_data/Jan/calendar.csv.gz', compression='gzip', \n",
    "                                 header=0, sep=',', quotechar='\"')\n",
    "#data compiled on Febuary 12\n",
    "calendar_Feb = pd.read_csv('../data/initial_data/Feb/calendar.csv.gz', compression='gzip', \n",
    "                                 header=0, sep=',', quotechar='\"')\n",
    "#data compiled on March 13\n",
    "calendar_Mar = pd.read_csv('../data/initial_data/March/calendar.csv.gz', compression='gzip', \n",
    "                                 header=0, sep=',', quotechar='\"')\n",
    "#data compiled on April 8\n",
    "calendar_Apr = pd.read_csv('../data/initial_data/Apr/calendar.csv.gz', compression='gzip', \n",
    "                                 header=0, sep=',', quotechar='\"')\n",
    "#data compiled on May 06\n",
    "calendar_May = pd.read_csv('../data/initial_data/May/calendar.csv.gz', compression='gzip', \n",
    "                                 header=0, sep=',', quotechar='\"')"
   ]
  },
  {
   "cell_type": "code",
   "execution_count": 9,
   "metadata": {},
   "outputs": [
    {
     "name": "stdout",
     "output_type": "stream",
     "text": [
      "Dec min: 2019-12-04 00:00:00 Dec max: 2020-12-05 00:00:00\n",
      "Jan min: 2020-01-03 00:00:00 Jan max: 2021-01-04 00:00:00\n",
      "Feb min: 2020-02-12 00:00:00 Feb max: 2021-02-11 00:00:00\n",
      "Mar min: 2020-03-14 00:00:00 Mar max: 2021-03-14 00:00:00\n",
      "Apr min: 2020-04-08 00:00:00 Apr max: 2021-04-11 00:00:00\n",
      "May min: 2020-05-06 00:00:00 May max: 2021-05-09 00:00:00\n"
     ]
    }
   ],
   "source": [
    "print(\"Dec min:\",calendar_Dec[\"date\"].min(),\"Dec max:\",calendar_Dec[\"date\"].max())\n",
    "print(\"Jan min:\",calendar_Jan[\"date\"].min(),\"Jan max:\",calendar_Jan[\"date\"].max())\n",
    "print(\"Feb min:\",calendar_Feb[\"date\"].min(),\"Feb max:\",calendar_Feb[\"date\"].max())\n",
    "print(\"Mar min:\",calendar_Mar[\"date\"].min(),\"Mar max:\",calendar_Mar[\"date\"].max())\n",
    "print(\"Apr min:\",calendar_Apr[\"date\"].min(),\"Apr max:\",calendar_Apr[\"date\"].max())\n",
    "print(\"May min:\",calendar_May[\"date\"].min(),\"May max:\",calendar_May[\"date\"].max())"
   ]
  },
  {
   "cell_type": "code",
   "execution_count": 10,
   "metadata": {},
   "outputs": [],
   "source": [
    "calendar_Dec['date'] = pd.to_datetime(calendar_Dec['date'])  \n",
    "calendar_Jan['date'] = pd.to_datetime(calendar_Jan['date'])\n",
    "calendar_Feb['date'] = pd.to_datetime(calendar_Feb['date']) \n",
    "calendar_Mar['date'] = pd.to_datetime(calendar_Mar['date'])  \n",
    "calendar_Apr['date'] = pd.to_datetime(calendar_Apr['date'])  \n",
    "calendar_May['date'] = pd.to_datetime(calendar_May['date'])  "
   ]
  },
  {
   "cell_type": "code",
   "execution_count": null,
   "metadata": {},
   "outputs": [],
   "source": [
    "# #greater than the start date and smaller than the end date\n",
    "# start_date = datetime.datetime(2020,2,12)\n",
    "# end_date = datetime.datetime(2020,3,12)\n",
    "\n",
    "# mask = (calendar_Dec['date'] > start_date) & (calendar_Dec['date'] <= end_date)\n",
    "# cal_Dec_small = calendar_Dec.loc[mask]\n",
    "# cal_Dec_booked = cal_Dec_small[cal_Dec_small.available == \"f\"] #rooms that have already been booked\n",
    "\n",
    "# mask = (calendar_Jan['date'] > start_date) & (calendar_Jan['date'] <= end_date)\n",
    "# cal_Jan_small = calendar_Jan.loc[mask]\n",
    "# cal_Jan_empty = cal_Jan_small[cal_Jan_small.available == \"t\"] #rooms that are empty"
   ]
  },
  {
   "cell_type": "code",
   "execution_count": 11,
   "metadata": {},
   "outputs": [],
   "source": [
    "def getBooked(start_date, end_date, df):\n",
    "    mask = (df['date'] > start_date) & (df['date'] <= end_date)\n",
    "    df_small = df.loc[mask]\n",
    "    df_booked = df_small[df_small.available == \"f\"] #rooms that have already been booked\n",
    "    return df_booked"
   ]
  },
  {
   "cell_type": "code",
   "execution_count": 14,
   "metadata": {},
   "outputs": [],
   "source": [
    "def getEmpty(start_date, end_date, df):\n",
    "    mask = (df['date'] > start_date) & (df['date'] <= end_date)\n",
    "    df_small = df.loc[mask]\n",
    "    df_empty = df_small[df_small.available == \"t\"] #rooms that are empty\n",
    "    return df_empty"
   ]
  },
  {
   "cell_type": "code",
   "execution_count": null,
   "metadata": {},
   "outputs": [],
   "source": [
    "# def getBookedAndEmpty(start_date, end_date, df_1, df_2):\n",
    "#         return getBooked(start_date, end_date, df_1), getEmpty(start_date, end_date, df_2) "
   ]
  },
  {
   "cell_type": "code",
   "execution_count": 20,
   "metadata": {},
   "outputs": [],
   "source": [
    "start_date = datetime.datetime(2020,1,3)\n",
    "end_date = datetime.datetime(2020,2,11)\n",
    "cal_Dec_booked = getBooked(start_date, end_date, calendar_Dec)\n",
    "cal_Jan_empty = getEmpty(start_date, end_date, calendar_Jan)\n",
    "\n",
    "start_date = datetime.datetime(2020,2,12)\n",
    "end_date = datetime.datetime(2020,3,12)\n",
    "cal_Jan_booked = getBooked(start_date, end_date, calendar_Jan)\n",
    "cal_Feb_empty = getEmpty(start_date, end_date, calendar_Feb)\n",
    "\n",
    "start_date = datetime.datetime(2020,3,13)\n",
    "end_date = datetime.datetime(2020,4,7)\n",
    "cal_Feb_booked = getBooked(start_date, end_date, calendar_Feb)\n",
    "cal_Mar_empty = getEmpty(start_date, end_date, calendar_Mar)\n",
    "\n",
    "start_date = datetime.datetime(2020,4,7)\n",
    "end_date = datetime.datetime(2020,5,5)\n",
    "cal_Mar_booked = getBooked(start_date, end_date, calendar_Mar)\n",
    "cal_Apr_empty = getEmpty(start_date, end_date, calendar_Apr)\n",
    "\n",
    "start_date = datetime.datetime(2020,5,6)\n",
    "end_date = datetime.datetime(2020,5,27)\n",
    "cal_Apr_booked = getBooked(start_date, end_date, calendar_Apr)\n",
    "cal_May_empty = getEmpty(start_date, end_date, calendar_May)"
   ]
  },
  {
   "cell_type": "code",
   "execution_count": 21,
   "metadata": {},
   "outputs": [],
   "source": [
    "def getCombine(df_booked, df_empty):\n",
    "    combine = pd.concat([df_booked, df_empty], axis=0)\n",
    "    combine = combine[[\"listing_id\",\"date\",\"available\"]]\n",
    "    return combine"
   ]
  },
  {
   "cell_type": "code",
   "execution_count": 22,
   "metadata": {},
   "outputs": [],
   "source": [
    "combine_Dec_Jan = getCombine(cal_Dec_booked, cal_Jan_empty)\n",
    "combine_Jan_Feb = getCombine(cal_Jan_booked, cal_Feb_empty)\n",
    "combine_Feb_Mar = getCombine(cal_Feb_booked, cal_Mar_empty)\n",
    "combine_Mar_Apr = getCombine(cal_Mar_booked, cal_Apr_empty)\n",
    "combine_Apr_May = getCombine(cal_Apr_booked, cal_May_empty)"
   ]
  },
  {
   "cell_type": "code",
   "execution_count": 27,
   "metadata": {},
   "outputs": [],
   "source": [
    "def getCancelNum(df_combine):\n",
    "    return sum(df_combine.groupby(['listing_id','date']).count().available == 2)"
   ]
  },
  {
   "cell_type": "code",
   "execution_count": 28,
   "metadata": {},
   "outputs": [],
   "source": [
    "def getBookedNum(df_booked):\n",
    "    return df_booked.shape[0]"
   ]
  },
  {
   "cell_type": "code",
   "execution_count": 31,
   "metadata": {},
   "outputs": [],
   "source": [
    "def getCancelRate(df_combine, df_booked):\n",
    "    return getCancelNum(df_combine) / getBookedNum(df_booked)"
   ]
  },
  {
   "cell_type": "code",
   "execution_count": 32,
   "metadata": {},
   "outputs": [],
   "source": [
    "cancel_rate_Dec_Jan = getCancelRate(combine_Dec_Jan, cal_Dec_booked)\n",
    "cancel_rate_Jan_Feb = getCancelRate(combine_Jan_Feb, cal_Jan_booked)\n",
    "cancel_rate_Feb_Mar = getCancelRate(combine_Feb_Mar, cal_Feb_booked)\n",
    "cancel_rate_Mar_Apr = getCancelRate(combine_Mar_Apr, cal_Mar_booked)\n",
    "cancel_rate_Apr_May = getCancelRate(combine_Apr_May, cal_Apr_booked)"
   ]
  },
  {
   "cell_type": "code",
   "execution_count": 41,
   "metadata": {},
   "outputs": [
    {
     "data": {
      "text/plain": [
       "Text(0.5, 1.0, 'Cancel Rate')"
      ]
     },
     "execution_count": 41,
     "metadata": {},
     "output_type": "execute_result"
    },
    {
     "data": {
      "image/png": "[encoded data removed]",
      "text/plain": [
       "<Figure size 432x288 with 1 Axes>"
      ]
     },
     "metadata": {
      "needs_background": "light"
     },
     "output_type": "display_data"
    }
   ],
   "source": [
    "cancel_rate = [cancel_rate_Dec_Jan, cancel_rate_Jan_Feb, cancel_rate_Feb_Mar, cancel_rate_Mar_Apr, cancel_rate_Apr_May]\n",
    "month = [\"Dec-Jan\",\"Jan-Feb\", \"Feb-March\", \"March-Apr\", \"Apr-May\"]\n",
    "plt.plot(month,cancel_rate)\n",
    "plt.title(\"Cancel Rate\")"
   ]
  },
  {
   "cell_type": "code",
   "execution_count": 43,
   "metadata": {},
   "outputs": [
    {
     "data": {
      "text/plain": [
       "Text(0.5, 1.0, 'Number of booked houses')"
      ]
     },
     "execution_count": 43,
     "metadata": {},
     "output_type": "execute_result"
    },
    {
     "data": {
      "image/png": "[encoded data removed]",
      "text/plain": [
       "<Figure size 432x288 with 1 Axes>"
      ]
     },
     "metadata": {
      "needs_background": "light"
     },
     "output_type": "display_data"
    }
   ],
   "source": [
    "booked_num = [getBookedNum(cal_Dec_booked),getBookedNum(cal_Jan_booked),getBookedNum(cal_Feb_booked),getBookedNum(cal_Mar_booked),getBookedNum(cal_Apr_booked)]\n",
    "month = [\"Dec-Jan\",\"Jan-Feb\", \"Feb-March\", \"March-Apr\", \"Apr-May\"]\n",
    "plt.plot(month, booked_num)\n",
    "plt.title(\"Number of booked houses\")"
   ]
  },
  {
   "cell_type": "code",
   "execution_count": 44,
   "metadata": {},
   "outputs": [
    {
     "data": {
      "text/plain": [
       "Text(0.5, 1.0, 'Number of canceled Houses')"
      ]
     },
     "execution_count": 44,
     "metadata": {},
     "output_type": "execute_result"
    },
    {
     "data": {
      "image/png": "[encoded data removed]",
      "text/plain": [
       "<Figure size 432x288 with 1 Axes>"
      ]
     },
     "metadata": {
      "needs_background": "light"
     },
     "output_type": "display_data"
    }
   ],
   "source": [
    "canceled_num = [getCancelNum(combine_Dec_Jan),getCancelNum(combine_Jan_Feb),getCancelNum(combine_Feb_Mar),getCancelNum(combine_Mar_Apr),getCancelNum(combine_Apr_May)]\n",
    "month = [\"Dec-Jan\",\"Jan-Feb\", \"Feb-March\", \"March-Apr\", \"Apr-May\"]\n",
    "plt.plot(month, canceled_num)\n",
    "plt.title(\"Number of canceled Houses\")"
   ]
  },
  {
   "cell_type": "code",
   "execution_count": null,
   "metadata": {},
   "outputs": [],
   "source": []
  }
 ],
 "metadata": {
  "kernelspec": {
   "display_name": "Python 3",
   "language": "python",
   "name": "python3"
  },
  "language_info": {
   "codemirror_mode": {
    "name": "ipython",
    "version": 3
   },
   "file_extension": ".py",
   "mimetype": "text/x-python",
   "name": "python",
   "nbconvert_exporter": "python",
   "pygments_lexer": "ipython3",
   "version": "3.7.4"
  }
 },
 "nbformat": 4,
 "nbformat_minor": 2
}
